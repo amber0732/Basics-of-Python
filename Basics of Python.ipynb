{
 "cells": [
  {
   "cell_type": "markdown",
   "id": "6c9fa2f5",
   "metadata": {},
   "source": [
    "###  1. Printing Hellow World"
   ]
  },
  {
   "cell_type": "markdown",
   "id": "89a93cda",
   "metadata": {},
   "source": [
    "#### Printing Hellow World in Python"
   ]
  },
  {
   "cell_type": "markdown",
   "id": "555fdc0f",
   "metadata": {},
   "source": [
    "##### Printing Hellow World in Python"
   ]
  },
  {
   "cell_type": "markdown",
   "id": "136c9eef",
   "metadata": {},
   "source": [
    "###### Hellow Hansung"
   ]
  },
  {
   "cell_type": "markdown",
   "id": "d08bfb03",
   "metadata": {},
   "source": [
    "# TATA"
   ]
  },
  {
   "cell_type": "code",
   "execution_count": 6,
   "id": "8a279e15",
   "metadata": {
    "scrolled": true
   },
   "outputs": [
    {
     "name": "stdout",
     "output_type": "stream",
     "text": [
      "Hii Amber Agey\n"
     ]
    }
   ],
   "source": [
    "print(\"Hii Amber Agey\")"
   ]
  },
  {
   "cell_type": "code",
   "execution_count": 7,
   "id": "efe1096d",
   "metadata": {},
   "outputs": [
    {
     "name": "stdout",
     "output_type": "stream",
     "text": [
      "Hansung\n"
     ]
    }
   ],
   "source": [
    "print(\"Hansung\")"
   ]
  },
  {
   "cell_type": "markdown",
   "id": "b8da9bfd",
   "metadata": {},
   "source": [
    "###  2. Datatypes :-"
   ]
  },
  {
   "cell_type": "code",
   "execution_count": 8,
   "id": "e0626ec2",
   "metadata": {},
   "outputs": [
    {
     "data": {
      "text/plain": [
       "(10, int)"
      ]
     },
     "execution_count": 8,
     "metadata": {},
     "output_type": "execute_result"
    }
   ],
   "source": [
    "x=10\n",
    "x, type(x)"
   ]
  },
  {
   "cell_type": "code",
   "execution_count": 1,
   "id": "4b7e6350",
   "metadata": {},
   "outputs": [
    {
     "data": {
      "text/plain": [
       "(12.3, float)"
      ]
     },
     "execution_count": 1,
     "metadata": {},
     "output_type": "execute_result"
    }
   ],
   "source": [
    "y=12.3\n",
    "y, type(y)"
   ]
  },
  {
   "cell_type": "code",
   "execution_count": 2,
   "id": "149c625b",
   "metadata": {},
   "outputs": [
    {
     "data": {
      "text/plain": [
       "(12.334534, float)"
      ]
     },
     "execution_count": 2,
     "metadata": {},
     "output_type": "execute_result"
    }
   ],
   "source": [
    "e = 12.334534\n",
    "e, type(e)"
   ]
  },
  {
   "cell_type": "code",
   "execution_count": 10,
   "id": "b0356f80",
   "metadata": {},
   "outputs": [
    {
     "name": "stdout",
     "output_type": "stream",
     "text": [
      "z\n",
      "<class 'str'>\n"
     ]
    }
   ],
   "source": [
    "z=\"TATA\"\n",
    "print('z')\n",
    "print(type(z))"
   ]
  },
  {
   "cell_type": "code",
   "execution_count": 16,
   "id": "4b799b9e",
   "metadata": {},
   "outputs": [
    {
     "data": {
      "text/plain": [
       "('A', str)"
      ]
     },
     "execution_count": 16,
     "metadata": {},
     "output_type": "execute_result"
    }
   ],
   "source": [
    "w='A'\n",
    "w, type(w)"
   ]
  },
  {
   "cell_type": "code",
   "execution_count": 12,
   "id": "8e140d33",
   "metadata": {},
   "outputs": [
    {
     "data": {
      "text/plain": [
       "(bool, True)"
      ]
     },
     "execution_count": 12,
     "metadata": {},
     "output_type": "execute_result"
    }
   ],
   "source": [
    "t=True\n",
    "type(t), t"
   ]
  },
  {
   "cell_type": "code",
   "execution_count": 13,
   "id": "3f526c1b",
   "metadata": {},
   "outputs": [
    {
     "data": {
      "text/plain": [
       "(bool, False)"
      ]
     },
     "execution_count": 13,
     "metadata": {},
     "output_type": "execute_result"
    }
   ],
   "source": [
    "q=False\n",
    "type(q), q"
   ]
  },
  {
   "cell_type": "markdown",
   "id": "193bec65",
   "metadata": {},
   "source": [
    "###  3. Rules for naming variables :-"
   ]
  },
  {
   "cell_type": "markdown",
   "id": "4bf76e8a",
   "metadata": {},
   "source": [
    "#### Variable can include only under_score['_']\n",
    "#### Space is not allowed\n",
    "#### Only special character is underscore (_)\n",
    "#### variable cannot start with a number.\n",
    "#### variable name can start or have = A-Z, a-z, '_'"
   ]
  },
  {
   "cell_type": "code",
   "execution_count": 18,
   "id": "828facb5",
   "metadata": {},
   "outputs": [
    {
     "data": {
      "text/plain": [
       "['Python', 'ai']"
      ]
     },
     "execution_count": 18,
     "metadata": {},
     "output_type": "execute_result"
    }
   ],
   "source": [
    "book_name = [\"Python\", \"ai\"]\n",
    "book_name"
   ]
  },
  {
   "cell_type": "code",
   "execution_count": 20,
   "id": "f9f387e5",
   "metadata": {},
   "outputs": [
    {
     "ename": "SyntaxError",
     "evalue": "invalid syntax (3176531032.py, line 1)",
     "output_type": "error",
     "traceback": [
      "\u001b[1;36m  Cell \u001b[1;32mIn[20], line 1\u001b[1;36m\u001b[0m\n\u001b[1;33m    book name = [\"Python\", \"ai\"]\u001b[0m\n\u001b[1;37m         ^\u001b[0m\n\u001b[1;31mSyntaxError\u001b[0m\u001b[1;31m:\u001b[0m invalid syntax\n"
     ]
    }
   ],
   "source": [
    "book name = [\"Python\", \"ai\"]\n",
    "book name"
   ]
  },
  {
   "cell_type": "code",
   "execution_count": 21,
   "id": "7b22428b",
   "metadata": {},
   "outputs": [
    {
     "ename": "SyntaxError",
     "evalue": "invalid decimal literal (1956487345.py, line 1)",
     "output_type": "error",
     "traceback": [
      "\u001b[1;36m  Cell \u001b[1;32mIn[21], line 1\u001b[1;36m\u001b[0m\n\u001b[1;33m    3book_name = [\"Python\", \"ai\"]\u001b[0m\n\u001b[1;37m    ^\u001b[0m\n\u001b[1;31mSyntaxError\u001b[0m\u001b[1;31m:\u001b[0m invalid decimal literal\n"
     ]
    }
   ],
   "source": [
    "3book_name = [\"Python\", \"ai\"]\n",
    "3book_name"
   ]
  },
  {
   "cell_type": "code",
   "execution_count": 19,
   "id": "cefe5443",
   "metadata": {},
   "outputs": [
    {
     "data": {
      "text/plain": [
       "['Python', 'ai']"
      ]
     },
     "execution_count": 19,
     "metadata": {},
     "output_type": "execute_result"
    }
   ],
   "source": [
    "bookname = [\"Python\", \"ai\"]\n",
    "bookname"
   ]
  },
  {
   "cell_type": "markdown",
   "id": "bde35446",
   "metadata": {},
   "source": [
    "### NOTE :- Try/Practice to find New/Intertesting things in Python"
   ]
  },
  {
   "cell_type": "markdown",
   "id": "380d7e9b",
   "metadata": {},
   "source": [
    "### 4. Data Structure :-"
   ]
  },
  {
   "cell_type": "markdown",
   "id": "64ed7774",
   "metadata": {},
   "source": [
    "### List :-\n",
    "#### They have Square Braces [ ]\n",
    "#### we can retrivel elements form list and it always starts from zero.\n",
    "#### Mutable list-> we can make the changes in list."
   ]
  },
  {
   "cell_type": "code",
   "execution_count": 23,
   "id": "eac6c2e1",
   "metadata": {},
   "outputs": [
    {
     "data": {
      "text/plain": [
       "[10, 2, 3, 4.6, 5, 'hii']"
      ]
     },
     "execution_count": 23,
     "metadata": {},
     "output_type": "execute_result"
    }
   ],
   "source": [
    "sample_list = [10, 2, 3, 4.6, 5, \"hii\"]\n",
    "sample_list"
   ]
  },
  {
   "cell_type": "code",
   "execution_count": 30,
   "id": "2cc15233",
   "metadata": {},
   "outputs": [
    {
     "ename": "IndexError",
     "evalue": "list index out of range",
     "output_type": "error",
     "traceback": [
      "\u001b[1;31m---------------------------------------------------------------------------\u001b[0m",
      "\u001b[1;31mIndexError\u001b[0m                                Traceback (most recent call last)",
      "Cell \u001b[1;32mIn[30], line 1\u001b[0m\n\u001b[1;32m----> 1\u001b[0m \u001b[43msample_list\u001b[49m\u001b[43m[\u001b[49m\u001b[38;5;241;43m10\u001b[39;49m\u001b[43m]\u001b[49m\n",
      "\u001b[1;31mIndexError\u001b[0m: list index out of range"
     ]
    }
   ],
   "source": [
    "sample_list[10]"
   ]
  },
  {
   "cell_type": "code",
   "execution_count": 24,
   "id": "5cfd6c37",
   "metadata": {},
   "outputs": [
    {
     "data": {
      "text/plain": [
       "list"
      ]
     },
     "execution_count": 24,
     "metadata": {},
     "output_type": "execute_result"
    }
   ],
   "source": [
    "type(sample_list)"
   ]
  },
  {
   "cell_type": "code",
   "execution_count": 27,
   "id": "12685833",
   "metadata": {},
   "outputs": [
    {
     "data": {
      "text/plain": [
       "5"
      ]
     },
     "execution_count": 27,
     "metadata": {},
     "output_type": "execute_result"
    }
   ],
   "source": [
    "sample_list[4]"
   ]
  },
  {
   "cell_type": "code",
   "execution_count": 29,
   "id": "4d1eadb3",
   "metadata": {},
   "outputs": [
    {
     "data": {
      "text/plain": [
       "[10, 100, 3, 4.6, 5, 'hii']"
      ]
     },
     "execution_count": 29,
     "metadata": {},
     "output_type": "execute_result"
    }
   ],
   "source": [
    "sample_list[1] = 100\n",
    "sample_list"
   ]
  },
  {
   "cell_type": "markdown",
   "id": "a5e3af0f",
   "metadata": {},
   "source": [
    "### Tuple :-\n",
    "#### Having Curved Braces (Paranthesis)  is called as Tuple.\n",
    "#### We can retrive elements using index and index starts from 0.\n",
    "#### Immutable -> We cannot make changes in it."
   ]
  },
  {
   "cell_type": "code",
   "execution_count": 31,
   "id": "63ae362a",
   "metadata": {},
   "outputs": [
    {
     "data": {
      "text/plain": [
       "(10, 2, 3, 4.5, 'hi')"
      ]
     },
     "execution_count": 31,
     "metadata": {},
     "output_type": "execute_result"
    }
   ],
   "source": [
    "sample_tuple = (10, 2, 3, 4.5, \"hi\")\n",
    "sample_tuple"
   ]
  },
  {
   "cell_type": "code",
   "execution_count": 32,
   "id": "bab75af4",
   "metadata": {},
   "outputs": [
    {
     "data": {
      "text/plain": [
       "tuple"
      ]
     },
     "execution_count": 32,
     "metadata": {},
     "output_type": "execute_result"
    }
   ],
   "source": [
    "type(sample_tuple)"
   ]
  },
  {
   "cell_type": "code",
   "execution_count": 35,
   "id": "ecfed431",
   "metadata": {},
   "outputs": [
    {
     "ename": "TypeError",
     "evalue": "'tuple' object does not support item assignment",
     "output_type": "error",
     "traceback": [
      "\u001b[1;31m---------------------------------------------------------------------------\u001b[0m",
      "\u001b[1;31mTypeError\u001b[0m                                 Traceback (most recent call last)",
      "Cell \u001b[1;32mIn[35], line 1\u001b[0m\n\u001b[1;32m----> 1\u001b[0m sample_tuple[\u001b[38;5;241m1\u001b[39m] \u001b[38;5;241m=\u001b[39m \u001b[38;5;241m20\u001b[39m\n",
      "\u001b[1;31mTypeError\u001b[0m: 'tuple' object does not support item assignment"
     ]
    }
   ],
   "source": [
    "sample_tuple[1] = 20"
   ]
  },
  {
   "cell_type": "code",
   "execution_count": 36,
   "id": "e7e99312",
   "metadata": {},
   "outputs": [
    {
     "ename": "IndexError",
     "evalue": "tuple index out of range",
     "output_type": "error",
     "traceback": [
      "\u001b[1;31m---------------------------------------------------------------------------\u001b[0m",
      "\u001b[1;31mIndexError\u001b[0m                                Traceback (most recent call last)",
      "Cell \u001b[1;32mIn[36], line 1\u001b[0m\n\u001b[1;32m----> 1\u001b[0m \u001b[43msample_tuple\u001b[49m\u001b[43m[\u001b[49m\u001b[38;5;241;43m10\u001b[39;49m\u001b[43m]\u001b[49m\n",
      "\u001b[1;31mIndexError\u001b[0m: tuple index out of range"
     ]
    }
   ],
   "source": [
    "sample_tuple[10]"
   ]
  },
  {
   "cell_type": "markdown",
   "id": "0f4093b2",
   "metadata": {},
   "source": [
    "### Set:-\n",
    "##### {}\n",
    "##### Duplicates are not allowed.\n",
    "##### arranged according to first place order.\n",
    "##### cannnot access using index.\n",
    "##### Set is Mutable using (.add) & (.remove)"
   ]
  },
  {
   "cell_type": "code",
   "execution_count": 37,
   "id": "f754976f",
   "metadata": {},
   "outputs": [
    {
     "data": {
      "text/plain": [
       "{1, 2, 3, 3.56, 33, 4.5, 'hellow'}"
      ]
     },
     "execution_count": 37,
     "metadata": {},
     "output_type": "execute_result"
    }
   ],
   "source": [
    "sample_set  = {1, 2, 3, 4.5, 2, 33, 3.56, \"hellow\"}\n",
    "sample_set"
   ]
  },
  {
   "cell_type": "code",
   "execution_count": 38,
   "id": "f8cd156b",
   "metadata": {},
   "outputs": [
    {
     "ename": "TypeError",
     "evalue": "'set' object is not subscriptable",
     "output_type": "error",
     "traceback": [
      "\u001b[1;31m---------------------------------------------------------------------------\u001b[0m",
      "\u001b[1;31mTypeError\u001b[0m                                 Traceback (most recent call last)",
      "Cell \u001b[1;32mIn[38], line 1\u001b[0m\n\u001b[1;32m----> 1\u001b[0m \u001b[43msample_set\u001b[49m\u001b[43m[\u001b[49m\u001b[38;5;241;43m0\u001b[39;49m\u001b[43m]\u001b[49m\n",
      "\u001b[1;31mTypeError\u001b[0m: 'set' object is not subscriptable"
     ]
    }
   ],
   "source": [
    "sample_set[0]"
   ]
  },
  {
   "cell_type": "code",
   "execution_count": 39,
   "id": "a47ff3f2",
   "metadata": {},
   "outputs": [],
   "source": [
    "sample_set.add(100)"
   ]
  },
  {
   "cell_type": "code",
   "execution_count": 40,
   "id": "f031a40e",
   "metadata": {},
   "outputs": [
    {
     "data": {
      "text/plain": [
       "{1, 100, 2, 3, 3.56, 33, 4.5, 'hellow'}"
      ]
     },
     "execution_count": 40,
     "metadata": {},
     "output_type": "execute_result"
    }
   ],
   "source": [
    "sample_set"
   ]
  },
  {
   "cell_type": "code",
   "execution_count": 44,
   "id": "7e3b4d82",
   "metadata": {},
   "outputs": [],
   "source": [
    "sample_set.remove(\"hellow\")"
   ]
  },
  {
   "cell_type": "code",
   "execution_count": 45,
   "id": "f982590d",
   "metadata": {},
   "outputs": [
    {
     "data": {
      "text/plain": [
       "{1, 2, 3, 3.56, 4.5, 33, 100}"
      ]
     },
     "execution_count": 45,
     "metadata": {},
     "output_type": "execute_result"
    }
   ],
   "source": [
    "sample_set"
   ]
  },
  {
   "cell_type": "markdown",
   "id": "f80d29c8",
   "metadata": {},
   "source": [
    "## DAY - 2, 13-4-2023, Thursday\n",
    "\n",
    "### Dictionary :-\n",
    "\n",
    "##### has key-value pair data structure\n",
    "##### Key is unique \n",
    "##### Values can be duplicate / Repeated.\n",
    "##### Values can be retrieved using key\n",
    "##### Key cannot be retrived using value"
   ]
  },
  {
   "cell_type": "code",
   "execution_count": 6,
   "id": "1b33c03e",
   "metadata": {},
   "outputs": [
    {
     "data": {
      "text/plain": [
       "{1: 'apple', 2: 34.4, 3: 45}"
      ]
     },
     "execution_count": 6,
     "metadata": {},
     "output_type": "execute_result"
    }
   ],
   "source": [
    "sample_dict = {1:\"apple\", 2:34.4, 3:\"jii\", 4:45}\n",
    "sample_dict"
   ]
  },
  {
   "cell_type": "code",
   "execution_count": 7,
   "id": "1aac89ab",
   "metadata": {},
   "outputs": [
    {
     "data": {
      "text/plain": [
       "34.4"
      ]
     },
     "execution_count": 7,
     "metadata": {},
     "output_type": "execute_result"
    }
   ],
   "source": [
    "sample_dict[2]"
   ]
  },
  {
   "cell_type": "code",
   "execution_count": 8,
   "id": "c4033083",
   "metadata": {},
   "outputs": [],
   "source": [
    "sample_dict[3] = \"TATA\""
   ]
  },
  {
   "cell_type": "code",
   "execution_count": 9,
   "id": "35bd7ff8",
   "metadata": {},
   "outputs": [
    {
     "data": {
      "text/plain": [
       "'TATA'"
      ]
     },
     "execution_count": 9,
     "metadata": {},
     "output_type": "execute_result"
    }
   ],
   "source": [
    "sample_dict[3]"
   ]
  },
  {
   "cell_type": "code",
   "execution_count": 1,
   "id": "9f254bcb",
   "metadata": {},
   "outputs": [
    {
     "name": "stdout",
     "output_type": "stream",
     "text": [
      "Amber\n"
     ]
    }
   ],
   "source": [
    "print('Amber')"
   ]
  },
  {
   "cell_type": "code",
   "execution_count": 2,
   "id": "e56bce6d",
   "metadata": {},
   "outputs": [
    {
     "name": "stdout",
     "output_type": "stream",
     "text": [
      "END...\n"
     ]
    }
   ],
   "source": [
    "print(\"END...\")"
   ]
  }
 ],
 "metadata": {
  "kernelspec": {
   "display_name": "Python 3 (ipykernel)",
   "language": "python",
   "name": "python3"
  },
  "language_info": {
   "codemirror_mode": {
    "name": "ipython",
    "version": 3
   },
   "file_extension": ".py",
   "mimetype": "text/x-python",
   "name": "python",
   "nbconvert_exporter": "python",
   "pygments_lexer": "ipython3",
   "version": "3.10.9"
  }
 },
 "nbformat": 4,
 "nbformat_minor": 5
}
